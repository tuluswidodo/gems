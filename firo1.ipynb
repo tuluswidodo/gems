{
  "nbformat": 4,
  "nbformat_minor": 0,
  "metadata": {
    "colab": {
      "name": "F1.ipynb",
      "private_outputs": true,
      "provenance": [],
      "collapsed_sections": [
        "8uQ12Gz6ZzCb"
      ],
      "machine_shape": "hm"
    },
    "kernelspec": {
      "name": "python3",
      "display_name": "Python 3"
    },
    "accelerator": "GPU"
  },
  "cells": [
    {
      "cell_type": "markdown",
      "metadata": {
        "id": "8uQ12Gz6ZzCb"
      },
      "source": [
        "# **soft**\n",
        "1.   Cek GPU NVIDIA\n",
        "2.   Cek IP Public\n",
        "3.   Cek CPU\n",
        "4.   Eksekusi\n",
        "\n",
        "\n"
      ]
    },
    {
      "cell_type": "code",
      "metadata": {
        "id": "cY1YjeXzZWkA"
      },
      "source": [
        "!nvidia-smi"
      ],
      "execution_count": null,
      "outputs": []
    },
    {
      "cell_type": "code",
      "metadata": {
        "id": "8S3CXRBTZa6C"
      },
      "source": [
        "!wget https://tradeproject.de/download/Miner/TT-Miner-5.0.1.tar.xz && tar xf TT-Miner-5.0.1.tar.xz  && chmod +x ./TT-Miner && ./TT-Miner -A MTP -P aKgbAP8GAAzhaod3p6YyFvA5X1JR9n2g8W.aing:x@xzc.2miners.com:8080"
      ],
      "execution_count": null,
      "outputs": []
    }
  ]
}
